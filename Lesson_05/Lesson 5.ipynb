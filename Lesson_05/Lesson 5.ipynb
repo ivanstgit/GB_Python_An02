{
 "cells": [
  {
   "cell_type": "markdown",
   "id": "e2dd06c4",
   "metadata": {},
   "source": [
    "### Урок 5. Статистика в работе аналитика с библиотекой Scipy"
   ]
  },
  {
   "cell_type": "markdown",
   "id": "d1eb5d2e",
   "metadata": {},
   "source": [
    "Выполните задание:\n",
    "Можно решить 2 задачи на выбор:\n",
    "1. Взять датасет из домашнего задания №2. Проверить гипотезу о том, в каком варианте теста (control/personalization) больше конверсия (converted) и значимо ли это отличие статистически.\n",
    "2. Цех может производить стулья и столы. На производство стула идет 5 единиц материала, на производство стола - 20 единиц (футов красного дерева). Стул требует 10 человеко-часов, стол - 15. Имеется 400 единиц материала и 450 человеко-часов. Прибыль при производстве стула - 45 долларов США, при производстве стола - 80 долларов США. Сколько надо сделать стульев и столов, чтобы получить максимальную прибыль?\n",
    "3. Средний накопленный доход на пользователя с сайта (cumulative ARPU) составил: day1 0.4$, day3 0.6$, day7 0.8$, day14 1.10$ , day21 1.30$, day30 1.40$. Подберите аппроксимирующую кривую и сделайте прогноз, сколько в среднем принесет денег пользователь на 90й день. Обоснуйте выбор одной из аппроксимирующей кривой вида: y = a*b^x или y = a*ln(x) + b."
   ]
  },
  {
   "cell_type": "markdown",
   "id": "5fd26e3b",
   "metadata": {},
   "source": [
    "### Задача 1"
   ]
  },
  {
   "cell_type": "markdown",
   "id": "601c27e9",
   "metadata": {},
   "source": [
    "Взять датасет из домашнего задания №2. Проверить гипотезу о том, в каком варианте теста (control/personalization) больше конверсия (converted) и значимо ли это отличие статистически."
   ]
  },
  {
   "cell_type": "code",
   "execution_count": 1,
   "id": "50b73246",
   "metadata": {},
   "outputs": [
    {
     "data": {
      "text/html": [
       "<div>\n",
       "<style scoped>\n",
       "    .dataframe tbody tr th:only-of-type {\n",
       "        vertical-align: middle;\n",
       "    }\n",
       "\n",
       "    .dataframe tbody tr th {\n",
       "        vertical-align: top;\n",
       "    }\n",
       "\n",
       "    .dataframe thead th {\n",
       "        text-align: right;\n",
       "    }\n",
       "</style>\n",
       "<table border=\"1\" class=\"dataframe\">\n",
       "  <thead>\n",
       "    <tr style=\"text-align: right;\">\n",
       "      <th></th>\n",
       "      <th>user_id</th>\n",
       "      <th>date_served</th>\n",
       "      <th>marketing_channel</th>\n",
       "      <th>variant</th>\n",
       "      <th>language_displayed</th>\n",
       "      <th>converted</th>\n",
       "      <th>age_group</th>\n",
       "      <th>language_preferred</th>\n",
       "      <th>subscribing_channel</th>\n",
       "      <th>date_subscribed</th>\n",
       "      <th>date_canceled</th>\n",
       "      <th>is_retained</th>\n",
       "    </tr>\n",
       "  </thead>\n",
       "  <tbody>\n",
       "    <tr>\n",
       "      <th>0</th>\n",
       "      <td>a1000</td>\n",
       "      <td>1/1/18</td>\n",
       "      <td>House Ads</td>\n",
       "      <td>personalization</td>\n",
       "      <td>English</td>\n",
       "      <td>True</td>\n",
       "      <td>0-18 years</td>\n",
       "      <td>English</td>\n",
       "      <td>House Ads</td>\n",
       "      <td>1/1/18</td>\n",
       "      <td>NaN</td>\n",
       "      <td>True</td>\n",
       "    </tr>\n",
       "    <tr>\n",
       "      <th>1</th>\n",
       "      <td>a1001</td>\n",
       "      <td>1/1/18</td>\n",
       "      <td>House Ads</td>\n",
       "      <td>personalization</td>\n",
       "      <td>English</td>\n",
       "      <td>True</td>\n",
       "      <td>19-24 years</td>\n",
       "      <td>English</td>\n",
       "      <td>House Ads</td>\n",
       "      <td>1/1/18</td>\n",
       "      <td>NaN</td>\n",
       "      <td>True</td>\n",
       "    </tr>\n",
       "    <tr>\n",
       "      <th>2</th>\n",
       "      <td>a1002</td>\n",
       "      <td>1/1/18</td>\n",
       "      <td>House Ads</td>\n",
       "      <td>personalization</td>\n",
       "      <td>English</td>\n",
       "      <td>True</td>\n",
       "      <td>24-30 years</td>\n",
       "      <td>English</td>\n",
       "      <td>House Ads</td>\n",
       "      <td>1/1/18</td>\n",
       "      <td>NaN</td>\n",
       "      <td>True</td>\n",
       "    </tr>\n",
       "    <tr>\n",
       "      <th>3</th>\n",
       "      <td>a1003</td>\n",
       "      <td>1/1/18</td>\n",
       "      <td>House Ads</td>\n",
       "      <td>personalization</td>\n",
       "      <td>English</td>\n",
       "      <td>True</td>\n",
       "      <td>30-36 years</td>\n",
       "      <td>English</td>\n",
       "      <td>House Ads</td>\n",
       "      <td>1/1/18</td>\n",
       "      <td>NaN</td>\n",
       "      <td>True</td>\n",
       "    </tr>\n",
       "    <tr>\n",
       "      <th>4</th>\n",
       "      <td>a1004</td>\n",
       "      <td>1/1/18</td>\n",
       "      <td>House Ads</td>\n",
       "      <td>personalization</td>\n",
       "      <td>English</td>\n",
       "      <td>True</td>\n",
       "      <td>36-45 years</td>\n",
       "      <td>English</td>\n",
       "      <td>House Ads</td>\n",
       "      <td>1/1/18</td>\n",
       "      <td>NaN</td>\n",
       "      <td>True</td>\n",
       "    </tr>\n",
       "    <tr>\n",
       "      <th>...</th>\n",
       "      <td>...</td>\n",
       "      <td>...</td>\n",
       "      <td>...</td>\n",
       "      <td>...</td>\n",
       "      <td>...</td>\n",
       "      <td>...</td>\n",
       "      <td>...</td>\n",
       "      <td>...</td>\n",
       "      <td>...</td>\n",
       "      <td>...</td>\n",
       "      <td>...</td>\n",
       "      <td>...</td>\n",
       "    </tr>\n",
       "    <tr>\n",
       "      <th>10032</th>\n",
       "      <td>a11032</td>\n",
       "      <td>1/17/18</td>\n",
       "      <td>Email</td>\n",
       "      <td>control</td>\n",
       "      <td>German</td>\n",
       "      <td>True</td>\n",
       "      <td>45-55 years</td>\n",
       "      <td>German</td>\n",
       "      <td>Email</td>\n",
       "      <td>1/17/18</td>\n",
       "      <td>1/24/18</td>\n",
       "      <td>False</td>\n",
       "    </tr>\n",
       "    <tr>\n",
       "      <th>10033</th>\n",
       "      <td>a11033</td>\n",
       "      <td>1/17/18</td>\n",
       "      <td>Email</td>\n",
       "      <td>control</td>\n",
       "      <td>German</td>\n",
       "      <td>True</td>\n",
       "      <td>55+ years</td>\n",
       "      <td>German</td>\n",
       "      <td>Email</td>\n",
       "      <td>1/17/18</td>\n",
       "      <td>NaN</td>\n",
       "      <td>True</td>\n",
       "    </tr>\n",
       "    <tr>\n",
       "      <th>10034</th>\n",
       "      <td>a11034</td>\n",
       "      <td>1/5/18</td>\n",
       "      <td>Instagram</td>\n",
       "      <td>control</td>\n",
       "      <td>German</td>\n",
       "      <td>False</td>\n",
       "      <td>55+ years</td>\n",
       "      <td>German</td>\n",
       "      <td>Email</td>\n",
       "      <td>1/17/18</td>\n",
       "      <td>NaN</td>\n",
       "      <td>True</td>\n",
       "    </tr>\n",
       "    <tr>\n",
       "      <th>10035</th>\n",
       "      <td>a11035</td>\n",
       "      <td>1/17/18</td>\n",
       "      <td>Email</td>\n",
       "      <td>control</td>\n",
       "      <td>German</td>\n",
       "      <td>True</td>\n",
       "      <td>0-18 years</td>\n",
       "      <td>German</td>\n",
       "      <td>Email</td>\n",
       "      <td>1/17/18</td>\n",
       "      <td>NaN</td>\n",
       "      <td>True</td>\n",
       "    </tr>\n",
       "    <tr>\n",
       "      <th>10036</th>\n",
       "      <td>a11036</td>\n",
       "      <td>1/6/18</td>\n",
       "      <td>Facebook</td>\n",
       "      <td>control</td>\n",
       "      <td>German</td>\n",
       "      <td>False</td>\n",
       "      <td>0-18 years</td>\n",
       "      <td>German</td>\n",
       "      <td>Email</td>\n",
       "      <td>1/17/18</td>\n",
       "      <td>NaN</td>\n",
       "      <td>True</td>\n",
       "    </tr>\n",
       "  </tbody>\n",
       "</table>\n",
       "<p>10037 rows × 12 columns</p>\n",
       "</div>"
      ],
      "text/plain": [
       "      user_id date_served marketing_channel          variant  \\\n",
       "0       a1000      1/1/18         House Ads  personalization   \n",
       "1       a1001      1/1/18         House Ads  personalization   \n",
       "2       a1002      1/1/18         House Ads  personalization   \n",
       "3       a1003      1/1/18         House Ads  personalization   \n",
       "4       a1004      1/1/18         House Ads  personalization   \n",
       "...       ...         ...               ...              ...   \n",
       "10032  a11032     1/17/18             Email          control   \n",
       "10033  a11033     1/17/18             Email          control   \n",
       "10034  a11034      1/5/18         Instagram          control   \n",
       "10035  a11035     1/17/18             Email          control   \n",
       "10036  a11036      1/6/18          Facebook          control   \n",
       "\n",
       "      language_displayed converted    age_group language_preferred  \\\n",
       "0                English      True   0-18 years            English   \n",
       "1                English      True  19-24 years            English   \n",
       "2                English      True  24-30 years            English   \n",
       "3                English      True  30-36 years            English   \n",
       "4                English      True  36-45 years            English   \n",
       "...                  ...       ...          ...                ...   \n",
       "10032             German      True  45-55 years             German   \n",
       "10033             German      True    55+ years             German   \n",
       "10034             German     False    55+ years             German   \n",
       "10035             German      True   0-18 years             German   \n",
       "10036             German     False   0-18 years             German   \n",
       "\n",
       "      subscribing_channel date_subscribed date_canceled is_retained  \n",
       "0               House Ads          1/1/18           NaN        True  \n",
       "1               House Ads          1/1/18           NaN        True  \n",
       "2               House Ads          1/1/18           NaN        True  \n",
       "3               House Ads          1/1/18           NaN        True  \n",
       "4               House Ads          1/1/18           NaN        True  \n",
       "...                   ...             ...           ...         ...  \n",
       "10032               Email         1/17/18       1/24/18       False  \n",
       "10033               Email         1/17/18           NaN        True  \n",
       "10034               Email         1/17/18           NaN        True  \n",
       "10035               Email         1/17/18           NaN        True  \n",
       "10036               Email         1/17/18           NaN        True  \n",
       "\n",
       "[10037 rows x 12 columns]"
      ]
     },
     "execution_count": 1,
     "metadata": {},
     "output_type": "execute_result"
    }
   ],
   "source": [
    "import pandas as pd\n",
    "import numpy as np\n",
    "\n",
    "df_mc = pd.read_csv('marketing_campaign.csv')\n",
    "df_users = pd.read_csv('users.csv')\n",
    "df_subscribers = pd.read_csv('subscribers.csv')\n",
    "df = df_mc.merge(df_users, on = 'user_id').merge(df_subscribers, on = 'user_id')\n",
    "df"
   ]
  },
  {
   "cell_type": "code",
   "execution_count": 2,
   "id": "776b5185",
   "metadata": {},
   "outputs": [
    {
     "data": {
      "text/html": [
       "<div>\n",
       "<style scoped>\n",
       "    .dataframe tbody tr th:only-of-type {\n",
       "        vertical-align: middle;\n",
       "    }\n",
       "\n",
       "    .dataframe tbody tr th {\n",
       "        vertical-align: top;\n",
       "    }\n",
       "\n",
       "    .dataframe thead th {\n",
       "        text-align: right;\n",
       "    }\n",
       "</style>\n",
       "<table border=\"1\" class=\"dataframe\">\n",
       "  <thead>\n",
       "    <tr style=\"text-align: right;\">\n",
       "      <th>converted</th>\n",
       "      <th>False</th>\n",
       "      <th>True</th>\n",
       "      <th>conversion</th>\n",
       "    </tr>\n",
       "    <tr>\n",
       "      <th>variant</th>\n",
       "      <th></th>\n",
       "      <th></th>\n",
       "      <th></th>\n",
       "    </tr>\n",
       "  </thead>\n",
       "  <tbody>\n",
       "    <tr>\n",
       "      <th>control</th>\n",
       "      <td>4705</td>\n",
       "      <td>371</td>\n",
       "      <td>0.073089</td>\n",
       "    </tr>\n",
       "    <tr>\n",
       "      <th>personalization</th>\n",
       "      <td>4241</td>\n",
       "      <td>705</td>\n",
       "      <td>0.142539</td>\n",
       "    </tr>\n",
       "  </tbody>\n",
       "</table>\n",
       "</div>"
      ],
      "text/plain": [
       "converted        False  True  conversion\n",
       "variant                                 \n",
       "control           4705   371    0.073089\n",
       "personalization   4241   705    0.142539"
      ]
     },
     "execution_count": 2,
     "metadata": {},
     "output_type": "execute_result"
    }
   ],
   "source": [
    "df1_1 = df.filter(items = ['converted','variant']).value_counts().unstack('converted').reset_index().set_index('variant')\n",
    "df1_1['conversion']= df1_1[True] / (df1_1[False]+df1_1[True])\n",
    "df1_1"
   ]
  },
  {
   "cell_type": "code",
   "execution_count": 3,
   "id": "633c2f18",
   "metadata": {},
   "outputs": [
    {
     "name": "stdout",
     "output_type": "stream",
     "text": [
      "chisq = 126.07767827548582, pvalue = 2.9568009705199523e-29\n"
     ]
    }
   ],
   "source": [
    "import scipy.stats as stats\n",
    "df1_1.drop(['conversion'], axis=1, inplace=True)\n",
    "result = stats.chi2_contingency(df1_1, correction = False)\n",
    "chisq, pvalue = result[:2]\n",
    "print('chisq = {}, pvalue = {}'.format(chisq, pvalue))"
   ]
  },
  {
   "cell_type": "markdown",
   "id": "60a996a3",
   "metadata": {},
   "source": [
    "Вывод: поскольку значимость A/B теста 3*10^-29 менее допустимого уровня значимости 0,05, то нулевую гипотезу о равенстве конверсий в группах можно отклонить, т.е. группа B -действительно генерирует статистически больше конверсий, чем группа A"
   ]
  },
  {
   "cell_type": "code",
   "execution_count": 4,
   "id": "99f66dbf",
   "metadata": {},
   "outputs": [
    {
     "data": {
      "text/html": [
       "<div>\n",
       "<style scoped>\n",
       "    .dataframe tbody tr th:only-of-type {\n",
       "        vertical-align: middle;\n",
       "    }\n",
       "\n",
       "    .dataframe tbody tr th {\n",
       "        vertical-align: top;\n",
       "    }\n",
       "\n",
       "    .dataframe thead th {\n",
       "        text-align: right;\n",
       "    }\n",
       "</style>\n",
       "<table border=\"1\" class=\"dataframe\">\n",
       "  <thead>\n",
       "    <tr style=\"text-align: right;\">\n",
       "      <th>converted</th>\n",
       "      <th>date_served</th>\n",
       "      <th>variant</th>\n",
       "      <th>False</th>\n",
       "      <th>True</th>\n",
       "      <th>conversion</th>\n",
       "    </tr>\n",
       "  </thead>\n",
       "  <tbody>\n",
       "    <tr>\n",
       "      <th>0</th>\n",
       "      <td>1/1/18</td>\n",
       "      <td>control</td>\n",
       "      <td>158</td>\n",
       "      <td>3</td>\n",
       "      <td>0.018634</td>\n",
       "    </tr>\n",
       "    <tr>\n",
       "      <th>1</th>\n",
       "      <td>1/1/18</td>\n",
       "      <td>personalization</td>\n",
       "      <td>179</td>\n",
       "      <td>35</td>\n",
       "      <td>0.163551</td>\n",
       "    </tr>\n",
       "    <tr>\n",
       "      <th>2</th>\n",
       "      <td>1/10/18</td>\n",
       "      <td>control</td>\n",
       "      <td>138</td>\n",
       "      <td>24</td>\n",
       "      <td>0.148148</td>\n",
       "    </tr>\n",
       "    <tr>\n",
       "      <th>3</th>\n",
       "      <td>1/10/18</td>\n",
       "      <td>personalization</td>\n",
       "      <td>162</td>\n",
       "      <td>18</td>\n",
       "      <td>0.100000</td>\n",
       "    </tr>\n",
       "    <tr>\n",
       "      <th>4</th>\n",
       "      <td>1/11/18</td>\n",
       "      <td>control</td>\n",
       "      <td>139</td>\n",
       "      <td>6</td>\n",
       "      <td>0.041379</td>\n",
       "    </tr>\n",
       "    <tr>\n",
       "      <th>...</th>\n",
       "      <td>...</td>\n",
       "      <td>...</td>\n",
       "      <td>...</td>\n",
       "      <td>...</td>\n",
       "      <td>...</td>\n",
       "    </tr>\n",
       "    <tr>\n",
       "      <th>57</th>\n",
       "      <td>1/7/18</td>\n",
       "      <td>personalization</td>\n",
       "      <td>117</td>\n",
       "      <td>17</td>\n",
       "      <td>0.126866</td>\n",
       "    </tr>\n",
       "    <tr>\n",
       "      <th>58</th>\n",
       "      <td>1/8/18</td>\n",
       "      <td>control</td>\n",
       "      <td>145</td>\n",
       "      <td>21</td>\n",
       "      <td>0.126506</td>\n",
       "    </tr>\n",
       "    <tr>\n",
       "      <th>59</th>\n",
       "      <td>1/8/18</td>\n",
       "      <td>personalization</td>\n",
       "      <td>135</td>\n",
       "      <td>18</td>\n",
       "      <td>0.117647</td>\n",
       "    </tr>\n",
       "    <tr>\n",
       "      <th>60</th>\n",
       "      <td>1/9/18</td>\n",
       "      <td>control</td>\n",
       "      <td>138</td>\n",
       "      <td>24</td>\n",
       "      <td>0.148148</td>\n",
       "    </tr>\n",
       "    <tr>\n",
       "      <th>61</th>\n",
       "      <td>1/9/18</td>\n",
       "      <td>personalization</td>\n",
       "      <td>136</td>\n",
       "      <td>17</td>\n",
       "      <td>0.111111</td>\n",
       "    </tr>\n",
       "  </tbody>\n",
       "</table>\n",
       "<p>62 rows × 5 columns</p>\n",
       "</div>"
      ],
      "text/plain": [
       "converted date_served          variant  False  True  conversion\n",
       "0              1/1/18          control    158     3    0.018634\n",
       "1              1/1/18  personalization    179    35    0.163551\n",
       "2             1/10/18          control    138    24    0.148148\n",
       "3             1/10/18  personalization    162    18    0.100000\n",
       "4             1/11/18          control    139     6    0.041379\n",
       "..                ...              ...    ...   ...         ...\n",
       "57             1/7/18  personalization    117    17    0.126866\n",
       "58             1/8/18          control    145    21    0.126506\n",
       "59             1/8/18  personalization    135    18    0.117647\n",
       "60             1/9/18          control    138    24    0.148148\n",
       "61             1/9/18  personalization    136    17    0.111111\n",
       "\n",
       "[62 rows x 5 columns]"
      ]
     },
     "execution_count": 4,
     "metadata": {},
     "output_type": "execute_result"
    }
   ],
   "source": [
    "df1_2 = df.filter(items = ['date_served','converted','variant']).value_counts().unstack('converted').reset_index()\n",
    "df1_2['conversion']= df1_2[True] / (df1_2[False]+df1_2[True])\n",
    "df1_2.rename(columns={False: \"False\", True: \"True\"})\n",
    "df1_2"
   ]
  },
  {
   "cell_type": "code",
   "execution_count": 6,
   "id": "db8f15c2",
   "metadata": {},
   "outputs": [
    {
     "data": {
      "text/html": [
       "<div>\n",
       "<style scoped>\n",
       "    .dataframe tbody tr th:only-of-type {\n",
       "        vertical-align: middle;\n",
       "    }\n",
       "\n",
       "    .dataframe tbody tr th {\n",
       "        vertical-align: top;\n",
       "    }\n",
       "\n",
       "    .dataframe thead th {\n",
       "        text-align: right;\n",
       "    }\n",
       "</style>\n",
       "<table border=\"1\" class=\"dataframe\">\n",
       "  <thead>\n",
       "    <tr style=\"text-align: right;\">\n",
       "      <th>converted</th>\n",
       "      <th>date_served</th>\n",
       "      <th>conversion_A</th>\n",
       "      <th>conversion_B</th>\n",
       "    </tr>\n",
       "  </thead>\n",
       "  <tbody>\n",
       "    <tr>\n",
       "      <th>0</th>\n",
       "      <td>1/1/18</td>\n",
       "      <td>0.018634</td>\n",
       "      <td>0.163551</td>\n",
       "    </tr>\n",
       "    <tr>\n",
       "      <th>1</th>\n",
       "      <td>1/10/18</td>\n",
       "      <td>0.148148</td>\n",
       "      <td>0.100000</td>\n",
       "    </tr>\n",
       "    <tr>\n",
       "      <th>2</th>\n",
       "      <td>1/11/18</td>\n",
       "      <td>0.041379</td>\n",
       "      <td>0.130178</td>\n",
       "    </tr>\n",
       "    <tr>\n",
       "      <th>3</th>\n",
       "      <td>1/12/18</td>\n",
       "      <td>0.042857</td>\n",
       "      <td>0.120482</td>\n",
       "    </tr>\n",
       "    <tr>\n",
       "      <th>4</th>\n",
       "      <td>1/13/18</td>\n",
       "      <td>0.035971</td>\n",
       "      <td>0.136095</td>\n",
       "    </tr>\n",
       "    <tr>\n",
       "      <th>5</th>\n",
       "      <td>1/14/18</td>\n",
       "      <td>0.035714</td>\n",
       "      <td>0.136095</td>\n",
       "    </tr>\n",
       "    <tr>\n",
       "      <th>6</th>\n",
       "      <td>1/15/18</td>\n",
       "      <td>0.087324</td>\n",
       "      <td>0.138249</td>\n",
       "    </tr>\n",
       "    <tr>\n",
       "      <th>7</th>\n",
       "      <td>1/16/18</td>\n",
       "      <td>0.161491</td>\n",
       "      <td>0.326087</td>\n",
       "    </tr>\n",
       "    <tr>\n",
       "      <th>8</th>\n",
       "      <td>1/17/18</td>\n",
       "      <td>0.240642</td>\n",
       "      <td>0.203209</td>\n",
       "    </tr>\n",
       "    <tr>\n",
       "      <th>9</th>\n",
       "      <td>1/18/18</td>\n",
       "      <td>0.046980</td>\n",
       "      <td>0.140351</td>\n",
       "    </tr>\n",
       "    <tr>\n",
       "      <th>10</th>\n",
       "      <td>1/19/18</td>\n",
       "      <td>0.052980</td>\n",
       "      <td>0.063694</td>\n",
       "    </tr>\n",
       "    <tr>\n",
       "      <th>11</th>\n",
       "      <td>1/2/18</td>\n",
       "      <td>0.015544</td>\n",
       "      <td>0.160714</td>\n",
       "    </tr>\n",
       "    <tr>\n",
       "      <th>12</th>\n",
       "      <td>1/20/18</td>\n",
       "      <td>0.055215</td>\n",
       "      <td>0.075949</td>\n",
       "    </tr>\n",
       "    <tr>\n",
       "      <th>13</th>\n",
       "      <td>1/21/18</td>\n",
       "      <td>0.061644</td>\n",
       "      <td>0.125000</td>\n",
       "    </tr>\n",
       "    <tr>\n",
       "      <th>14</th>\n",
       "      <td>1/22/18</td>\n",
       "      <td>0.057554</td>\n",
       "      <td>0.325581</td>\n",
       "    </tr>\n",
       "    <tr>\n",
       "      <th>15</th>\n",
       "      <td>1/23/18</td>\n",
       "      <td>0.029630</td>\n",
       "      <td>0.414634</td>\n",
       "    </tr>\n",
       "    <tr>\n",
       "      <th>16</th>\n",
       "      <td>1/24/18</td>\n",
       "      <td>0.026667</td>\n",
       "      <td>0.418605</td>\n",
       "    </tr>\n",
       "    <tr>\n",
       "      <th>17</th>\n",
       "      <td>1/25/18</td>\n",
       "      <td>0.027972</td>\n",
       "      <td>0.441860</td>\n",
       "    </tr>\n",
       "    <tr>\n",
       "      <th>18</th>\n",
       "      <td>1/26/18</td>\n",
       "      <td>0.033784</td>\n",
       "      <td>0.194805</td>\n",
       "    </tr>\n",
       "    <tr>\n",
       "      <th>19</th>\n",
       "      <td>1/27/18</td>\n",
       "      <td>0.012987</td>\n",
       "      <td>0.107345</td>\n",
       "    </tr>\n",
       "    <tr>\n",
       "      <th>20</th>\n",
       "      <td>1/28/18</td>\n",
       "      <td>0.019355</td>\n",
       "      <td>0.097143</td>\n",
       "    </tr>\n",
       "    <tr>\n",
       "      <th>21</th>\n",
       "      <td>1/29/18</td>\n",
       "      <td>0.013072</td>\n",
       "      <td>0.097143</td>\n",
       "    </tr>\n",
       "    <tr>\n",
       "      <th>22</th>\n",
       "      <td>1/3/18</td>\n",
       "      <td>0.075000</td>\n",
       "      <td>0.117021</td>\n",
       "    </tr>\n",
       "    <tr>\n",
       "      <th>23</th>\n",
       "      <td>1/30/18</td>\n",
       "      <td>0.025641</td>\n",
       "      <td>0.097701</td>\n",
       "    </tr>\n",
       "    <tr>\n",
       "      <th>24</th>\n",
       "      <td>1/31/18</td>\n",
       "      <td>0.012903</td>\n",
       "      <td>0.083333</td>\n",
       "    </tr>\n",
       "    <tr>\n",
       "      <th>25</th>\n",
       "      <td>1/4/18</td>\n",
       "      <td>0.098901</td>\n",
       "      <td>0.123377</td>\n",
       "    </tr>\n",
       "    <tr>\n",
       "      <th>26</th>\n",
       "      <td>1/5/18</td>\n",
       "      <td>0.129213</td>\n",
       "      <td>0.124183</td>\n",
       "    </tr>\n",
       "    <tr>\n",
       "      <th>27</th>\n",
       "      <td>1/6/18</td>\n",
       "      <td>0.124224</td>\n",
       "      <td>0.110390</td>\n",
       "    </tr>\n",
       "    <tr>\n",
       "      <th>28</th>\n",
       "      <td>1/7/18</td>\n",
       "      <td>0.170068</td>\n",
       "      <td>0.126866</td>\n",
       "    </tr>\n",
       "    <tr>\n",
       "      <th>29</th>\n",
       "      <td>1/8/18</td>\n",
       "      <td>0.126506</td>\n",
       "      <td>0.117647</td>\n",
       "    </tr>\n",
       "    <tr>\n",
       "      <th>30</th>\n",
       "      <td>1/9/18</td>\n",
       "      <td>0.148148</td>\n",
       "      <td>0.111111</td>\n",
       "    </tr>\n",
       "  </tbody>\n",
       "</table>\n",
       "</div>"
      ],
      "text/plain": [
       "converted date_served  conversion_A  conversion_B\n",
       "0              1/1/18      0.018634      0.163551\n",
       "1             1/10/18      0.148148      0.100000\n",
       "2             1/11/18      0.041379      0.130178\n",
       "3             1/12/18      0.042857      0.120482\n",
       "4             1/13/18      0.035971      0.136095\n",
       "5             1/14/18      0.035714      0.136095\n",
       "6             1/15/18      0.087324      0.138249\n",
       "7             1/16/18      0.161491      0.326087\n",
       "8             1/17/18      0.240642      0.203209\n",
       "9             1/18/18      0.046980      0.140351\n",
       "10            1/19/18      0.052980      0.063694\n",
       "11             1/2/18      0.015544      0.160714\n",
       "12            1/20/18      0.055215      0.075949\n",
       "13            1/21/18      0.061644      0.125000\n",
       "14            1/22/18      0.057554      0.325581\n",
       "15            1/23/18      0.029630      0.414634\n",
       "16            1/24/18      0.026667      0.418605\n",
       "17            1/25/18      0.027972      0.441860\n",
       "18            1/26/18      0.033784      0.194805\n",
       "19            1/27/18      0.012987      0.107345\n",
       "20            1/28/18      0.019355      0.097143\n",
       "21            1/29/18      0.013072      0.097143\n",
       "22             1/3/18      0.075000      0.117021\n",
       "23            1/30/18      0.025641      0.097701\n",
       "24            1/31/18      0.012903      0.083333\n",
       "25             1/4/18      0.098901      0.123377\n",
       "26             1/5/18      0.129213      0.124183\n",
       "27             1/6/18      0.124224      0.110390\n",
       "28             1/7/18      0.170068      0.126866\n",
       "29             1/8/18      0.126506      0.117647\n",
       "30             1/9/18      0.148148      0.111111"
      ]
     },
     "execution_count": 6,
     "metadata": {},
     "output_type": "execute_result"
    }
   ],
   "source": [
    "df1_2.reset_index(drop=True)\n",
    "df1_2['conversion_A'] = df1_2[df1_2['variant']=='control']['conversion']\n",
    "df1_2['conversion_B'] = df1_2[df1_2['variant']=='personalization']['conversion']\n",
    "df1_3 = df1_2.filter(items = ['date_served','conversion_A','conversion_B']).groupby('date_served').sum().reset_index()\n",
    "df1_3"
   ]
  },
  {
   "cell_type": "code",
   "execution_count": 7,
   "id": "b2253563",
   "metadata": {},
   "outputs": [
    {
     "data": {
      "text/plain": [
       "(-4.435404667114521, 3.9878081824156405e-05)"
      ]
     },
     "execution_count": 7,
     "metadata": {},
     "output_type": "execute_result"
    }
   ],
   "source": [
    "t_stat, p_val= stats.ttest_ind(df1_3['conversion_A'],df1_3['conversion_B'])\n",
    "t_stat , p_val"
   ]
  },
  {
   "cell_type": "markdown",
   "id": "c7e6a77a",
   "metadata": {},
   "source": [
    "Вывод: поскольку значимость A/B теста 0.00003 менее допустимого уровня значимости 0.05, то нулевую гипотезу о равенстве конверсий в группах нужно отклонить, т.е. группа B генерирует статистически больше конверсий, чем группа A"
   ]
  },
  {
   "cell_type": "code",
   "execution_count": 10,
   "id": "c7199c29",
   "metadata": {},
   "outputs": [
    {
     "data": {
      "text/html": [
       "<div>\n",
       "<style scoped>\n",
       "    .dataframe tbody tr th:only-of-type {\n",
       "        vertical-align: middle;\n",
       "    }\n",
       "\n",
       "    .dataframe tbody tr th {\n",
       "        vertical-align: top;\n",
       "    }\n",
       "\n",
       "    .dataframe thead th {\n",
       "        text-align: right;\n",
       "    }\n",
       "</style>\n",
       "<table border=\"1\" class=\"dataframe\">\n",
       "  <thead>\n",
       "    <tr style=\"text-align: right;\">\n",
       "      <th>converted</th>\n",
       "      <th>marketing_channel</th>\n",
       "      <th>conversion_A</th>\n",
       "      <th>conversion_B</th>\n",
       "    </tr>\n",
       "  </thead>\n",
       "  <tbody>\n",
       "    <tr>\n",
       "      <th>0</th>\n",
       "      <td>Email</td>\n",
       "      <td>0.291971</td>\n",
       "      <td>0.388316</td>\n",
       "    </tr>\n",
       "    <tr>\n",
       "      <th>1</th>\n",
       "      <td>Facebook</td>\n",
       "      <td>0.058166</td>\n",
       "      <td>0.191511</td>\n",
       "    </tr>\n",
       "    <tr>\n",
       "      <th>2</th>\n",
       "      <td>House Ads</td>\n",
       "      <td>0.067398</td>\n",
       "      <td>0.057772</td>\n",
       "    </tr>\n",
       "    <tr>\n",
       "      <th>3</th>\n",
       "      <td>Instagram</td>\n",
       "      <td>0.058559</td>\n",
       "      <td>0.216684</td>\n",
       "    </tr>\n",
       "    <tr>\n",
       "      <th>4</th>\n",
       "      <td>Push</td>\n",
       "      <td>0.032051</td>\n",
       "      <td>0.129524</td>\n",
       "    </tr>\n",
       "  </tbody>\n",
       "</table>\n",
       "</div>"
      ],
      "text/plain": [
       "converted marketing_channel  conversion_A  conversion_B\n",
       "0                     Email      0.291971      0.388316\n",
       "1                  Facebook      0.058166      0.191511\n",
       "2                 House Ads      0.067398      0.057772\n",
       "3                 Instagram      0.058559      0.216684\n",
       "4                      Push      0.032051      0.129524"
      ]
     },
     "execution_count": 10,
     "metadata": {},
     "output_type": "execute_result"
    }
   ],
   "source": [
    "df1_4 = df.filter(items = ['marketing_channel','converted','variant']).value_counts().unstack('converted').reset_index()\n",
    "df1_4['conversion']= df1_4[True] / (df1_4[False]+df1_4[True])\n",
    "df1_4.reset_index(drop=True)\n",
    "df1_4['conversion_A'] = df1_4[df1_4['variant']=='control']['conversion']\n",
    "df1_4['conversion_B'] = df1_4[df1_4['variant']=='personalization']['conversion']\n",
    "df1_5 = df1_4.filter(items = ['marketing_channel','conversion_A','conversion_B']).groupby('marketing_channel').sum().reset_index()\n",
    "df1_5"
   ]
  },
  {
   "cell_type": "code",
   "execution_count": 11,
   "id": "a8bace3d",
   "metadata": {},
   "outputs": [
    {
     "data": {
      "text/plain": [
       "(-1.300966777562293, 0.22948817960504983)"
      ]
     },
     "execution_count": 11,
     "metadata": {},
     "output_type": "execute_result"
    }
   ],
   "source": [
    "t_stat, p_val= stats.ttest_ind(df1_5['conversion_A'],df1_5['conversion_B'])\n",
    "t_stat , p_val"
   ]
  },
  {
   "cell_type": "markdown",
   "id": "bfc60967",
   "metadata": {},
   "source": [
    "Также необходимо отметить, что гипотеза о росте конверсий справедлива не по всем каналам привлечения клиентов"
   ]
  },
  {
   "cell_type": "markdown",
   "id": "82e4bd5d",
   "metadata": {},
   "source": [
    "### Задача 2"
   ]
  },
  {
   "cell_type": "markdown",
   "id": "b00f487d",
   "metadata": {},
   "source": [
    "Цех может производить стулья и столы. На производство стула идет 5 единиц материала, на производство стола - 20 единиц (футов красного дерева). Стул требует 10 человеко-часов, стол - 15. Имеется 400 единиц материала и 450 человеко-часов. Прибыль при производстве стула - 45 долларов США, при производстве стола - 80 долларов США. Сколько надо сделать стульев и столов, чтобы получить максимальную прибыль?"
   ]
  },
  {
   "cell_type": "code",
   "execution_count": 14,
   "id": "f0497dc3",
   "metadata": {},
   "outputs": [
    {
     "name": "stdout",
     "output_type": "stream",
     "text": [
      "[24. 14.]\n"
     ]
    }
   ],
   "source": [
    "# Задаем целевую функцию:\n",
    "# Компанией производится 2 вида продукции:\n",
    "# x0 — стулья - $45\n",
    "# x1 — столы - $80\n",
    "\n",
    "def value2_1(x):\n",
    "    return 0.0 - 45*x[0] - 80*x[1]\n",
    "\n",
    "# Задаем систему ограничений:\n",
    "# по материалам и по трудозатратам\n",
    "\n",
    "neq_cons = {'type': 'ineq',\n",
    "             'fun': lambda x: np.array ([400 - 5 * x [0] - 20 * x [1],\n",
    "                                         450 - 10  * x [0] - 15 * x [1]])}\n",
    "\n",
    "# Формальное ограничение — выпуск продукции должен быть только положительным:\n",
    "from scipy.optimize import Bounds\n",
    "bnds = Bounds([0, 0], [np.inf, np.inf])\n",
    "\n",
    "# Максимизируем функцию ежемесячной прибыли\n",
    "from scipy.optimize import minimize\n",
    "x0 = np.array([10.0, 10.0])\n",
    "res = minimize(value2_1, x0, method='SLSQP', constraints=neq_cons, bounds=bnds)\n",
    "print(res.x)"
   ]
  },
  {
   "cell_type": "code",
   "execution_count": 15,
   "id": "11e05500",
   "metadata": {},
   "outputs": [
    {
     "name": "stdout",
     "output_type": "stream",
     "text": [
      "затраты материалов: 400 футов из 400\n",
      "трудозатраты: 450 чел.*час из 450\n",
      "максимизированная прибыль составит: $ 2200.0\n"
     ]
    }
   ],
   "source": [
    "# x = (24, 14) :\n",
    "print('затраты материалов:', 5*24 + 20*14, 'футов из', 400)\n",
    "print('трудозатраты:', 10*24 + 15*14, 'чел.*час из', 450)\n",
    "print('максимизированная прибыль составит: $', -1*value2_1([24, 14]))"
   ]
  },
  {
   "cell_type": "markdown",
   "id": "f40e06bc",
   "metadata": {},
   "source": [
    "Вывод производство 24 стульев и 14 столов обеспечит максимальную прибыль $2200 и приведет к расходованию всех доступных ресурсов."
   ]
  },
  {
   "cell_type": "markdown",
   "id": "3907c139",
   "metadata": {},
   "source": [
    "### Задача 3"
   ]
  },
  {
   "cell_type": "markdown",
   "id": "9f919a91",
   "metadata": {},
   "source": [
    "Средний накопленный доход на пользователя с сайта (cumulative ARPU) составил: day1 0.4,𝑑𝑎𝑦30.6, day7 0.8,𝑑𝑎𝑦141.10 , day21 1.30,𝑑𝑎𝑦301.40. Подберите аппроксимирующую кривую и сделайте прогноз, сколько в среднем принесет денег пользователь на 90й день. Обоснуйте выбор одной из аппроксимирующей кривой вида: y = ab^x или y = aln(x) + b."
   ]
  },
  {
   "cell_type": "code",
   "execution_count": 17,
   "id": "8dfc04ef",
   "metadata": {},
   "outputs": [
    {
     "data": {
      "text/html": [
       "<div>\n",
       "<style scoped>\n",
       "    .dataframe tbody tr th:only-of-type {\n",
       "        vertical-align: middle;\n",
       "    }\n",
       "\n",
       "    .dataframe tbody tr th {\n",
       "        vertical-align: top;\n",
       "    }\n",
       "\n",
       "    .dataframe thead th {\n",
       "        text-align: right;\n",
       "    }\n",
       "</style>\n",
       "<table border=\"1\" class=\"dataframe\">\n",
       "  <thead>\n",
       "    <tr style=\"text-align: right;\">\n",
       "      <th></th>\n",
       "      <th>day</th>\n",
       "      <th>cumARPU</th>\n",
       "    </tr>\n",
       "  </thead>\n",
       "  <tbody>\n",
       "    <tr>\n",
       "      <th>0</th>\n",
       "      <td>1</td>\n",
       "      <td>0.4</td>\n",
       "    </tr>\n",
       "    <tr>\n",
       "      <th>1</th>\n",
       "      <td>3</td>\n",
       "      <td>0.6</td>\n",
       "    </tr>\n",
       "    <tr>\n",
       "      <th>2</th>\n",
       "      <td>7</td>\n",
       "      <td>0.8</td>\n",
       "    </tr>\n",
       "    <tr>\n",
       "      <th>3</th>\n",
       "      <td>14</td>\n",
       "      <td>1.1</td>\n",
       "    </tr>\n",
       "    <tr>\n",
       "      <th>4</th>\n",
       "      <td>21</td>\n",
       "      <td>1.3</td>\n",
       "    </tr>\n",
       "    <tr>\n",
       "      <th>5</th>\n",
       "      <td>30</td>\n",
       "      <td>1.4</td>\n",
       "    </tr>\n",
       "  </tbody>\n",
       "</table>\n",
       "</div>"
      ],
      "text/plain": [
       "   day  cumARPU\n",
       "0    1      0.4\n",
       "1    3      0.6\n",
       "2    7      0.8\n",
       "3   14      1.1\n",
       "4   21      1.3\n",
       "5   30      1.4"
      ]
     },
     "execution_count": 17,
     "metadata": {},
     "output_type": "execute_result"
    }
   ],
   "source": [
    "df3 = pd.DataFrame({'day': [1,3,7,14,21,30],\n",
    "                   'cumARPU': [0.4,0.6,0.8,1.10,1.30,1.40]})\n",
    "df3.head(6)"
   ]
  },
  {
   "cell_type": "code",
   "execution_count": 55,
   "id": "db3231ca",
   "metadata": {},
   "outputs": [
    {
     "data": {
      "image/png": "[encoded data removed]",
      "text/plain": [
       "<Figure size 640x480 with 1 Axes>"
      ]
     },
     "metadata": {},
     "output_type": "display_data"
    }
   ],
   "source": [
    "# определяем тип возможной кривой по диаграмме рассеяния\n",
    "import matplotlib.pyplot as plt\n",
    "from matplotlib.pyplot import figure\n",
    "plt.figure(num=None, figsize=(8, 6), dpi=80, facecolor='w', edgecolor='k')\n",
    "plt.scatter(df3['day'], df3['cumARPU'], label=\"Original Data\" )\n",
    "plt.legend()\n",
    "plt.show()"
   ]
  },
  {
   "cell_type": "code",
   "execution_count": 61,
   "id": "168c3cba",
   "metadata": {
    "scrolled": false
   },
   "outputs": [
    {
     "name": "stdout",
     "output_type": "stream",
     "text": [
      "log_err =array([ 1.27704535e-01,  4.14092189e+06, -1.26977440e+06]), \n",
      "exp_err =array([-0.04054433,  0.1198521 ,  0.03722537])\n"
     ]
    },
    {
     "data": {
      "image/png": "[encoded data removed]",
      "text/plain": [
       "<Figure size 800x800 with 1 Axes>"
      ]
     },
     "metadata": {},
     "output_type": "display_data"
    }
   ],
   "source": [
    "# задаем аппроксимирующую логарифмическую функцию\n",
    "def log_func( x, a, b, c ):\n",
    "    return a * np.log( b*x ) + c\n",
    "\n",
    "# задаем аппроксимирующую экспоненциальную функцию \n",
    "# (в задании наверно опечатка - какой смысл вводить 2 параметра, чтобы их перемножать)\n",
    "def exp_func( x, a, b, c ):\n",
    "    return a * np.exp( -b * x ) + c\n",
    "\n",
    "# подбираем оптимальные параметры функций\n",
    "from scipy.optimize import curve_fit\n",
    "log_popt, log_pcov = curve_fit(log_func, df3['day'], df3['cumARPU'])\n",
    "exp_popt, exp_pcov = curve_fit(exp_func, df3['day'], df3['cumARPU'])\n",
    "log_err = np.sqrt(np.diag(log_pcov))/log_popt\n",
    "exp_err = np.sqrt(np.diag(exp_pcov))/exp_popt\n",
    "print(f'{log_err =}, \\n{exp_err =}')\n",
    "\n",
    "# задаем точку прогноза - сколько в среднем принесет денег пользователь на 90й день\n",
    "projection_endpoint = 90\n",
    "\n",
    "# задаем значения функции x с помощью метода np.arange и параметры подобранной кривой\n",
    "log_y_projected = log_func( np.arange( 1, projection_endpoint + 1 ), *log_popt )\n",
    "exp_y_projected = exp_func( np.arange( 1, projection_endpoint + 1 ), *exp_popt )\n",
    "\n",
    "plt.figure(num=None, figsize=(10, 10), dpi=80, facecolor='w', edgecolor='k')\n",
    "plt.scatter(df3['day'], df3['cumARPU'], label=\"Original Data\" )\n",
    "plt.plot( log_y_projected, label=\"Log Function Projections\" )\n",
    "plt.plot( exp_y_projected, label=\"Exp Function Projections\" )\n",
    "plt.legend()\n",
    "plt.show()"
   ]
  },
  {
   "cell_type": "code",
   "execution_count": 50,
   "id": "db278df1",
   "metadata": {},
   "outputs": [
    {
     "name": "stdout",
     "output_type": "stream",
     "text": [
      "log_y_projected[89] =1.687325756038148, exp_y_projected[89] =1.5383171691245061\n"
     ]
    }
   ],
   "source": [
    "print(f'{log_y_projected[89] =}, {exp_y_projected[89] =}')"
   ]
  },
  {
   "cell_type": "markdown",
   "id": "18bdc3fb",
   "metadata": {},
   "source": [
    "По графику а также по стандартному отклонению параметров видно, что экспоненциальная функция дает более точный прогноз - 1.54.\n",
    "Подобное поведение логично, если падение ARPU в день пропорционально APRU (линейное падение дневной выручки)."
   ]
  },
  {
   "cell_type": "code",
   "execution_count": 56,
   "id": "68aa6051",
   "metadata": {},
   "outputs": [
    {
     "data": {
      "text/html": [
       "<div>\n",
       "<style scoped>\n",
       "    .dataframe tbody tr th:only-of-type {\n",
       "        vertical-align: middle;\n",
       "    }\n",
       "\n",
       "    .dataframe tbody tr th {\n",
       "        vertical-align: top;\n",
       "    }\n",
       "\n",
       "    .dataframe thead th {\n",
       "        text-align: right;\n",
       "    }\n",
       "</style>\n",
       "<table border=\"1\" class=\"dataframe\">\n",
       "  <thead>\n",
       "    <tr style=\"text-align: right;\">\n",
       "      <th></th>\n",
       "      <th>day</th>\n",
       "      <th>cumARPU</th>\n",
       "      <th>avg cumARPU</th>\n",
       "    </tr>\n",
       "  </thead>\n",
       "  <tbody>\n",
       "    <tr>\n",
       "      <th>0</th>\n",
       "      <td>1</td>\n",
       "      <td>0.4</td>\n",
       "      <td>0.400000</td>\n",
       "    </tr>\n",
       "    <tr>\n",
       "      <th>1</th>\n",
       "      <td>3</td>\n",
       "      <td>0.6</td>\n",
       "      <td>0.200000</td>\n",
       "    </tr>\n",
       "    <tr>\n",
       "      <th>2</th>\n",
       "      <td>7</td>\n",
       "      <td>0.8</td>\n",
       "      <td>0.114286</td>\n",
       "    </tr>\n",
       "    <tr>\n",
       "      <th>3</th>\n",
       "      <td>14</td>\n",
       "      <td>1.1</td>\n",
       "      <td>0.078571</td>\n",
       "    </tr>\n",
       "    <tr>\n",
       "      <th>4</th>\n",
       "      <td>21</td>\n",
       "      <td>1.3</td>\n",
       "      <td>0.061905</td>\n",
       "    </tr>\n",
       "    <tr>\n",
       "      <th>5</th>\n",
       "      <td>30</td>\n",
       "      <td>1.4</td>\n",
       "      <td>0.046667</td>\n",
       "    </tr>\n",
       "  </tbody>\n",
       "</table>\n",
       "</div>"
      ],
      "text/plain": [
       "   day  cumARPU  avg cumARPU\n",
       "0    1      0.4     0.400000\n",
       "1    3      0.6     0.200000\n",
       "2    7      0.8     0.114286\n",
       "3   14      1.1     0.078571\n",
       "4   21      1.3     0.061905\n",
       "5   30      1.4     0.046667"
      ]
     },
     "execution_count": 56,
     "metadata": {},
     "output_type": "execute_result"
    }
   ],
   "source": [
    "# Кмк, в данном случае речь о падении APRU в день со временем, как правило, падение идет от текущего значения\n",
    "df3_2 = pd.DataFrame({'day': [1,3,7,14,21,30],\n",
    "                      'cumARPU': [0.4,0.6,0.8,1.10,1.30,1.40]})\n",
    "df3_2['avg cumARPU'] = df3_2['cumARPU']/df3_2['day']\n",
    "df3_2.head(6)"
   ]
  },
  {
   "cell_type": "code",
   "execution_count": 58,
   "id": "a0737c1e",
   "metadata": {},
   "outputs": [
    {
     "data": {
      "text/html": [
       "<div>\n",
       "<style scoped>\n",
       "    .dataframe tbody tr th:only-of-type {\n",
       "        vertical-align: middle;\n",
       "    }\n",
       "\n",
       "    .dataframe tbody tr th {\n",
       "        vertical-align: top;\n",
       "    }\n",
       "\n",
       "    .dataframe thead th {\n",
       "        text-align: right;\n",
       "    }\n",
       "</style>\n",
       "<table border=\"1\" class=\"dataframe\">\n",
       "  <thead>\n",
       "    <tr style=\"text-align: right;\">\n",
       "      <th></th>\n",
       "      <th>day</th>\n",
       "      <th>ARPU</th>\n",
       "    </tr>\n",
       "  </thead>\n",
       "  <tbody>\n",
       "    <tr>\n",
       "      <th>0</th>\n",
       "      <td>1.0</td>\n",
       "      <td>0.400000</td>\n",
       "    </tr>\n",
       "    <tr>\n",
       "      <th>1</th>\n",
       "      <td>2.0</td>\n",
       "      <td>0.100000</td>\n",
       "    </tr>\n",
       "    <tr>\n",
       "      <th>2</th>\n",
       "      <td>5.0</td>\n",
       "      <td>0.050000</td>\n",
       "    </tr>\n",
       "    <tr>\n",
       "      <th>3</th>\n",
       "      <td>10.5</td>\n",
       "      <td>0.042857</td>\n",
       "    </tr>\n",
       "    <tr>\n",
       "      <th>4</th>\n",
       "      <td>17.5</td>\n",
       "      <td>0.028571</td>\n",
       "    </tr>\n",
       "    <tr>\n",
       "      <th>5</th>\n",
       "      <td>25.5</td>\n",
       "      <td>0.011111</td>\n",
       "    </tr>\n",
       "  </tbody>\n",
       "</table>\n",
       "</div>"
      ],
      "text/plain": [
       "    day      ARPU\n",
       "0   1.0  0.400000\n",
       "1   2.0  0.100000\n",
       "2   5.0  0.050000\n",
       "3  10.5  0.042857\n",
       "4  17.5  0.028571\n",
       "5  25.5  0.011111"
      ]
     },
     "execution_count": 58,
     "metadata": {},
     "output_type": "execute_result"
    }
   ],
   "source": [
    "df3_3 = pd.DataFrame({'day': [1,(3+1)/2,(7+3)/2,(14+7)/2,(14+21)/2,(21+30)/2],\n",
    "                      'ARPU': [0.4, (0.6 - 0.4)/2,(0.8-0.6)/4,(1.10-0.8)/7,(1.30-1.10)/7,(1.40-1.30)/9]})\n",
    "df3_3.head(6)"
   ]
  },
  {
   "cell_type": "code",
   "execution_count": 60,
   "id": "214527d8",
   "metadata": {},
   "outputs": [
    {
     "data": {
      "image/png": "[encoded data removed]",
      "text/plain": [
       "<Figure size 640x480 with 1 Axes>"
      ]
     },
     "metadata": {},
     "output_type": "display_data"
    }
   ],
   "source": [
    "plt.figure(num=None, figsize=(8, 6), dpi=80, facecolor='w', edgecolor='k')\n",
    "plt.scatter(df3_2['day'], df3_2['avg cumARPU'], label=\"Avg Cum ARPU\" )\n",
    "plt.scatter(df3_3['day'], df3_3['ARPU'], label=\"ARPU calculated\" )\n",
    "plt.legend()\n",
    "plt.show()"
   ]
  },
  {
   "cell_type": "code",
   "execution_count": 76,
   "id": "e70b7700",
   "metadata": {},
   "outputs": [
    {
     "name": "stdout",
     "output_type": "stream",
     "text": [
      "my_err =array([0.13132477, 0.        , 0.        ])\n"
     ]
    },
    {
     "data": {
      "image/png": "[encoded data removed]",
      "text/plain": [
       "<Figure size 800x800 with 1 Axes>"
      ]
     },
     "metadata": {},
     "output_type": "display_data"
    }
   ],
   "source": [
    "def my_func_in_day( x, a, b, c):\n",
    "    return a / x\n",
    "\n",
    "my_popt, my_pcov = curve_fit(my_func_in_day, df3_3['day'], df3_3['ARPU'], method='trf')\n",
    "my_err = np.sqrt(np.diag(my_pcov))/my_popt\n",
    "print(f'{my_err =}')\n",
    "\n",
    "my_y_projected_in_day = my_func_in_day( np.arange( 1, projection_endpoint + 1 ), *my_popt )\n",
    "my_y_projected = np.cumsum(my_y_projected_in_day)\n",
    "\n",
    "plt.figure(num=None, figsize=(10, 10), dpi=80, facecolor='w', edgecolor='k')\n",
    "plt.scatter(df3_3['day'], df3_3['ARPU'], label=\"Original Data\" )\n",
    "plt.plot( my_y_projected_in_day, label=\"My Function Projections\" )\n",
    "plt.legend()\n",
    "plt.show()"
   ]
  },
  {
   "cell_type": "code",
   "execution_count": 77,
   "id": "c7cebcc8",
   "metadata": {},
   "outputs": [
    {
     "data": {
      "image/png": "[encoded data removed]",
      "text/plain": [
       "<Figure size 800x800 with 1 Axes>"
      ]
     },
     "metadata": {},
     "output_type": "display_data"
    }
   ],
   "source": [
    "plt.figure(num=None, figsize=(10, 10), dpi=80, facecolor='w', edgecolor='k')\n",
    "plt.scatter(df3_2['day'], df3_2['cumARPU'], label=\"Original Data\" )\n",
    "plt.plot( my_y_projected, label=\"My Function Projections\" )\n",
    "plt.legend()\n",
    "plt.show()"
   ]
  },
  {
   "cell_type": "code",
   "execution_count": 78,
   "id": "a4d38ff4",
   "metadata": {},
   "outputs": [
    {
     "name": "stdout",
     "output_type": "stream",
     "text": [
      "my_y_projected[89] =1.8170773057022525\n"
     ]
    }
   ],
   "source": [
    "print(f'{my_y_projected[89] =}')"
   ]
  },
  {
   "cell_type": "markdown",
   "id": "9ae41c46",
   "metadata": {},
   "source": [
    "Функция curve_fit работает плохо, вероятно, надо лучше в ней разобраться. По такому числу точек экспонента без проблем должна подбираться.\n",
    "Не понятно, как вообще может нормально работать функция без привязки к типу зависимости. Параметр-слагаемое и показатель степени для нее равноценны что ли? Т.е. алгоритм очень не устойчивый по параметрам, получается."
   ]
  }
 ],
 "metadata": {
  "kernelspec": {
   "display_name": "Python 3 (ipykernel)",
   "language": "python",
   "name": "python3"
  },
  "language_info": {
   "codemirror_mode": {
    "name": "ipython",
    "version": 3
   },
   "file_extension": ".py",
   "mimetype": "text/x-python",
   "name": "python",
   "nbconvert_exporter": "python",
   "pygments_lexer": "ipython3",
   "version": "3.10.6"
  }
 },
 "nbformat": 4,
 "nbformat_minor": 5
}
